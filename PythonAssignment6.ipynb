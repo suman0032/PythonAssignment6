{
 "cells": [
  {
   "cell_type": "code",
   "execution_count": 70,
   "metadata": {},
   "outputs": [
    {
     "data": {
      "text/plain": [
       "array([[   1,    1,    1,    1,    1,    1],\n",
       "       [  32,   16,    8,    4,    2,    1],\n",
       "       [ 243,   81,   27,    9,    3,    1],\n",
       "       [1024,  256,   64,   16,    4,    1],\n",
       "       [3125,  625,  125,   25,    5,    1],\n",
       "       [7776, 1296,  216,   36,    6,    1]])"
      ]
     },
     "execution_count": 70,
     "metadata": {},
     "output_type": "execute_result"
    }
   ],
   "source": [
    "import numpy as np\n",
    "x=np.asarray([1,2,3,4,5,6])\n",
    "len(x)\n",
    "np.vander(x,increasing=False)"
   ]
  },
  {
   "cell_type": "code",
   "execution_count": 69,
   "metadata": {},
   "outputs": [
    {
     "name": "stdout",
     "output_type": "stream",
     "text": [
      "[[   1    1    1    1    1    1]\n",
      " [  32   16    8    4    2    1]\n",
      " [ 243   81   27    9    3    1]\n",
      " [1024  256   64   16    4    1]\n",
      " [3125  625  125   25    5    1]\n",
      " [7776 1296  216   36    6    1]]\n"
     ]
    }
   ],
   "source": [
    "import numpy as np\n",
    "def ivander(arr):#arr=[1,2,3,4,5]\n",
    "    N,f=len(arr),[]\n",
    "    for i in range(N):    \n",
    "        x,p=[],arr[i]    \n",
    "        for j in range(N):        \n",
    "            x.append(p**(N-j-1))    \n",
    "        f.append(x)\n",
    "    return np.array(f)\n",
    "\n",
    "print(ivander([1,2,3,4,5,6]))"
   ]
  }
 ],
 "metadata": {
  "kernelspec": {
   "display_name": "Python 3",
   "language": "python",
   "name": "python3"
  },
  "language_info": {
   "codemirror_mode": {
    "name": "ipython",
    "version": 3
   },
   "file_extension": ".py",
   "mimetype": "text/x-python",
   "name": "python",
   "nbconvert_exporter": "python",
   "pygments_lexer": "ipython3",
   "version": "3.6.5"
  }
 },
 "nbformat": 4,
 "nbformat_minor": 2
}
